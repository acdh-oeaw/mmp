{
 "cells": [
  {
   "cell_type": "code",
   "execution_count": 1,
   "metadata": {},
   "outputs": [],
   "source": [
    "import json\n",
    "from collections import defaultdict\n",
    "from sqlalchemy import create_engine\n",
    "from django.core.management.base import BaseCommand\n",
    "from django.conf import settings\n",
    "from appcreator.import_utils import run_import\n",
    "\n",
    "# imports for custom things\n",
    "import json\n",
    "from tqdm import tqdm\n",
    "import pandas as pd\n",
    "from django.core.serializers.json import DjangoJSONEncoder\n",
    "from archiv.models import KeyWord, Stelle\n",
    "\n",
    "\n",
    "dbc = settings.LEGACY_DB_CONNECTION\n",
    "db_connection_str = f\"mysql+pymysql://{dbc['USER']}:{dbc['PASSWORD']}@{dbc['HOST']}/{dbc['NAME']}\"\n",
    "db_connection = create_engine(db_connection_str)"
   ]
  },
  {
   "cell_type": "code",
   "execution_count": 2,
   "metadata": {},
   "outputs": [],
   "source": [
    "for x in KeyWord.objects.all():\n",
    "    x.stichwort = x.stichwort.strip()\n",
    "    x.save()"
   ]
  },
  {
   "cell_type": "code",
   "execution_count": 3,
   "metadata": {},
   "outputs": [],
   "source": [
    "query = \"SELECT * FROM stelle\"\n",
    "df = pd.read_sql(query, con=db_connection)"
   ]
  },
  {
   "cell_type": "code",
   "execution_count": 4,
   "metadata": {},
   "outputs": [
    {
     "name": "stderr",
     "output_type": "stream",
     "text": [
      "100%|██████████| 4661/4661 [00:49<00:00, 94.20it/s] \n"
     ]
    }
   ],
   "source": [
    "stichwort_list = [x for x in list(df.keys()) if x.startswith('sstich')]\n",
    "ambique = {}\n",
    "no_match = {}\n",
    "for i, row in tqdm(df.iterrows(), total=len(df)):\n",
    "    if row['sid']:\n",
    "        try:\n",
    "            item = Stelle.objects.get(legacy_pk=row['sid'])\n",
    "        except:\n",
    "            continue\n",
    "        for st in stichwort_list:\n",
    "            if row[st] != \"\":\n",
    "                try:\n",
    "                    lookup = row[st].strip()\n",
    "                except AttributeError:\n",
    "                    continue\n",
    "                kws = KeyWord.objects.filter(stichwort=lookup)\n",
    "                if len(kws) == 1:\n",
    "                    item.key_word.add(*kws)\n",
    "                elif len(kws) == 0:\n",
    "                    no_match[f\"{item}\"] = lookup\n",
    "                else:\n",
    "                    ambique[f\"{item}\"] = lookup"
   ]
  },
  {
   "cell_type": "code",
   "execution_count": 5,
   "metadata": {},
   "outputs": [
    {
     "name": "stdout",
     "output_type": "stream",
     "text": [
      "no_match: 1231; ambique: 0\n"
     ]
    }
   ],
   "source": [
    "print(f\"no_match: {len(no_match)}; ambique: {len(ambique)}\")"
   ]
  },
  {
   "cell_type": "code",
   "execution_count": 6,
   "metadata": {},
   "outputs": [],
   "source": [
    "v = defaultdict(list)"
   ]
  },
  {
   "cell_type": "code",
   "execution_count": 7,
   "metadata": {},
   "outputs": [],
   "source": [
    "for key, value in sorted(no_match.items()):\n",
    "    v[value].append(key)"
   ]
  },
  {
   "cell_type": "code",
   "execution_count": 8,
   "metadata": {},
   "outputs": [],
   "source": [
    "with open('no_match.json', 'w') as fp:\n",
    "    json.dump(v, fp, indent=True)"
   ]
  },
  {
   "cell_type": "code",
   "execution_count": 36,
   "metadata": {},
   "outputs": [],
   "source": [
    "with open('no_match.json') as fp:\n",
    "    no_match = json.load(fp)"
   ]
  },
  {
   "cell_type": "code",
   "execution_count": 46,
   "metadata": {},
   "outputs": [],
   "source": [
    "no_match_in_variants = []\n",
    "matches = defaultdict(list)\n",
    "ambique = defaultdict(list)\n",
    "for key, value in v.items():\n",
    "    potential_matches = KeyWord.objects.filter(varianten__icontains=key)\n",
    "    if potential_matches.count() == 0:\n",
    "        no_match_in_variants.append({key: value})\n",
    "    elif potential_matches.count() == 1:\n",
    "        matches[key] = potential_matches\n",
    "    else:\n",
    "        ambique[key] = potential_matches"
   ]
  },
  {
   "cell_type": "code",
   "execution_count": 47,
   "metadata": {},
   "outputs": [],
   "source": [
    "results = [\n",
    "    [\"no_match_in_variants\", no_match_in_variants],\n",
    "    [\"matches\", matches],\n",
    "    [\"ambique\", ambique]\n",
    "]"
   ]
  },
  {
   "cell_type": "code",
   "execution_count": 48,
   "metadata": {},
   "outputs": [
    {
     "name": "stdout",
     "output_type": "stream",
     "text": [
      "no_match_in_variants: 37\n",
      "matches: 92\n",
      "ambique: 16\n"
     ]
    }
   ],
   "source": [
    "for x in results:\n",
    "    print(f\"{x[0]}: {len(x[1])}\")"
   ]
  },
  {
   "cell_type": "code",
   "execution_count": 49,
   "metadata": {},
   "outputs": [
    {
     "name": "stdout",
     "output_type": "stream",
     "text": [
      "keyword: Franci\n",
      ", varianten: [(<KeyWord: Francia>, 'Franciae;Franciam'), (<KeyWord: francicus>, 'francic'), (<KeyWord: Francigenus>, 'Francigena;Francigeno;Francigeni;Francigenos;Francigenis'), (<KeyWord: Francus>, 'Franci;Francos;Francis')] \n",
      "\n",
      "\n",
      "keyword: Graeci\n",
      ", varianten: [(<KeyWord: Graecia>, 'Graeciae;Graeciam'), (<KeyWord: Graecus>, 'Grecus;Graeci;Greci;Graec')] \n",
      "\n",
      "\n",
      "keyword: Gothus\n",
      ", varianten: [(<KeyWord: Gothi>, 'Gothus;Gothorum;Gothos'), (<KeyWord: Wisigothi>, 'Wisigothus;Wisigotha;Wisigothae')] \n",
      "\n",
      "\n",
      "keyword: Romani\n",
      ", varianten: [(<KeyWord: civis Romanus>, 'civem Romanum;civi Romano;civis Romani;cives Romani;civibus Romanis'), (<KeyWord: Romania>, 'Romaniae;Romaniam'), (<KeyWord: Romanus>, 'Romani;Romanicus;Romana;Roman')] \n",
      "\n",
      "\n",
      "keyword: gentes\n",
      ", varianten: [(<KeyWord: gens>, 'gentes;genti;gente'), (<KeyWord: gens Dei>, 'gentis Dei;genti Dei;gentem Dei;gente Dei;gentes Dei')] \n",
      "\n",
      "\n",
      "keyword: Alamanni\n",
      ", varianten: [(<KeyWord: Alamannia>, 'Alamanniae;Alamanniam;Alemannia'), (<KeyWord: Alamannus>, 'Alamanni;Alamannorum;Alamannis;Alamannos;Alamanno')] \n",
      "\n",
      "\n",
      "keyword: Scotti\n",
      ", varianten: [(<KeyWord: Scottia>, 'Scottiae;Scotia;Scottiam'), (<KeyWord: Scotticus>, 'Scoticus;Scottici;Scotticos;Scotticis;Scotticorum'), (<KeyWord: Scottus>, 'Scotti;Scottorum;Scottis;Scottos')] \n",
      "\n",
      "\n",
      "keyword: populi\n",
      ", varianten: [(<KeyWord: gens populi>, 'gentem populi;gent populi'), (<KeyWord: populi gentium>, 'populorum gentium;populis  gentium;populos  gentium'), (<KeyWord: populi nationum>, 'populorum nationum;populis  nationum;populos  nationum'), (<KeyWord: populus>, 'populi;populo;populum'), (<KeyWord: populus christianus>, 'populi christiani;populus christianorum'), (<KeyWord: populus Dei>, 'populi Dei;populo Dei;populum Dei')] \n",
      "\n",
      "\n",
      "keyword: Aquitani\n",
      ", varianten: [(<KeyWord: Aquitania>, 'Aquitaniae;Aquitaniam'), (<KeyWord: Aquitanus>, 'Aquitanius;Aquitano;Aquitanum;Aquitanos;Aquitanis')] \n",
      "\n",
      "\n",
      "keyword: Hispani\n",
      ", varianten: [(<KeyWord: Hispania>, 'Hispaniae;Hispaniarum;Hispaniam;Hispanias;Spania'), (<KeyWord: Hispaniensis>, 'Hispaniens'), (<KeyWord: Hispanus>, 'Hispani;Hispano;Hispanum;Hispano;Span')] \n",
      "\n",
      "\n",
      "keyword: Latini\n",
      ", varianten: [(<KeyWord: Latinitas>, 'latinitatis;latinitati;latinitatem;latinitate'), (<KeyWord: Latinus>, 'latinum;latini;latinorum;latinos;latinis')] \n",
      "\n",
      "\n",
      "keyword: Frisia\n",
      ", varianten: [(<KeyWord: Fresia>, 'Frisia;Fresi;Frisi'), (<KeyWord: Fresius>, 'Fresii;Frisii;Fresones;Frisiani;Fresiones')] \n",
      "\n",
      "\n",
      "keyword: barbari\n",
      ", varianten: [(<KeyWord: barbaricus>, 'barbarici;barbarica;barbaricum;barbarico;barbaricos'), (<KeyWord: barbaries>, 'barbarie;barbariem'), (<KeyWord: barbarus>, 'barbari;barbaro;barbarum;barbarorum;barbara')] \n",
      "\n",
      "\n",
      "keyword: Burgundi\n",
      ", varianten: [(<KeyWord: Burgundia>, 'Burgundiae;Burgundiam'), (<KeyWord: Burgundii>, 'Burgundius;Burgundi;Burgundiones;Burgundioni;Burgundofarones')] \n",
      "\n",
      "\n",
      "keyword: Scoti\n",
      ", varianten: [(<KeyWord: Scottia>, 'Scottiae;Scotia;Scottiam'), (<KeyWord: Scotticus>, 'Scoticus;Scottici;Scotticos;Scotticis;Scotticorum')] \n",
      "\n",
      "\n",
      "keyword: Saxoni\n",
      ", varianten: [(<KeyWord: Saxo>, 'Saxones;Saxoni;Saxus;Saxi'), (<KeyWord: Saxonia>, 'Saxoniae;Saxoniam'), (<KeyWord: Saxonicus>, 'Saxonic')] \n",
      "\n",
      "\n"
     ]
    }
   ],
   "source": [
    "for item in ambique.items():\n",
    "    print(f\"keyword: {item[0]}\\n, varianten: {[(x, x.varianten) for x in item[1]]} \\n\\n\")"
   ]
  },
  {
   "cell_type": "code",
   "execution_count": 50,
   "metadata": {},
   "outputs": [
    {
     "data": {
      "text/plain": [
       "(defaultdict(list,\n",
       "             {'Franci': <QuerySet [<KeyWord: Francia>, <KeyWord: francicus>, <KeyWord: Francigenus>, <KeyWord: Francus>]>,\n",
       "              'Graeci': <QuerySet [<KeyWord: Graecia>, <KeyWord: Graecus>]>,\n",
       "              'Gothus': <QuerySet [<KeyWord: Gothi>, <KeyWord: Wisigothi>]>,\n",
       "              'Romani': <QuerySet [<KeyWord: civis Romanus>, <KeyWord: Romania>, <KeyWord: Romanus>]>,\n",
       "              'gentes': <QuerySet [<KeyWord: gens>, <KeyWord: gens Dei>]>,\n",
       "              'Alamanni': <QuerySet [<KeyWord: Alamannia>, <KeyWord: Alamannus>]>,\n",
       "              'Scotti': <QuerySet [<KeyWord: Scottia>, <KeyWord: Scotticus>, <KeyWord: Scottus>]>,\n",
       "              'populi': <QuerySet [<KeyWord: gens populi>, <KeyWord: populi gentium>, <KeyWord: populi nationum>, <KeyWord: populus>, <KeyWord: populus christianus>, <KeyWord: populus Dei>]>,\n",
       "              'Aquitani': <QuerySet [<KeyWord: Aquitania>, <KeyWord: Aquitanus>]>,\n",
       "              'Hispani': <QuerySet [<KeyWord: Hispania>, <KeyWord: Hispaniensis>, <KeyWord: Hispanus>]>,\n",
       "              'Latini': <QuerySet [<KeyWord: Latinitas>, <KeyWord: Latinus>]>,\n",
       "              'Frisia': <QuerySet [<KeyWord: Fresia>, <KeyWord: Fresius>]>,\n",
       "              'barbari': <QuerySet [<KeyWord: barbaricus>, <KeyWord: barbaries>, <KeyWord: barbarus>]>,\n",
       "              'Burgundi': <QuerySet [<KeyWord: Burgundia>, <KeyWord: Burgundii>]>,\n",
       "              'Scoti': <QuerySet [<KeyWord: Scottia>, <KeyWord: Scotticus>]>,\n",
       "              'Saxoni': <QuerySet [<KeyWord: Saxo>, <KeyWord: Saxonia>, <KeyWord: Saxonicus>]>}),\n",
       " ['iudaicus',\n",
       "  'iudaeus',\n",
       "  'Iudaea',\n",
       "  'termini',\n",
       "  'romanus',\n",
       "  'regnus',\n",
       "  'graecus',\n",
       "  'limites',\n",
       "  'Christianitas',\n",
       "  'Langobardus',\n",
       "  'italus',\n",
       "  'popoulus',\n",
       "  'hebraeus',\n",
       "  'Germanicus',\n",
       "  'Tromani',\n",
       "  'Arrianus',\n",
       "  'Vascones',\n",
       "  'genzus',\n",
       "  'confines',\n",
       "  'primceps',\n",
       "  'populs',\n",
       "  'Theutonicus',\n",
       "  'papaltium',\n",
       "  'eccleisa',\n",
       "  'israheliticus',\n",
       "  'proheta',\n",
       "  'manichaeus',\n",
       "  'princes',\n",
       "  'Africanus',\n",
       "  'Hlodwius',\n",
       "  'clericus',\n",
       "  'Hlotharius',\n",
       "  'ppontifex',\n",
       "  'latinitas',\n",
       "  'Langobardii',\n",
       "  'pelagianus',\n",
       "  'Brettones'])"
      ]
     },
     "execution_count": 50,
     "metadata": {},
     "output_type": "execute_result"
    }
   ],
   "source": [
    "ambique, [list(x.keys())[0] for x in no_match_in_variants]"
   ]
  },
  {
   "cell_type": "code",
   "execution_count": 51,
   "metadata": {},
   "outputs": [],
   "source": [
    "no_match_in_variants = []\n",
    "matches = defaultdict(list)\n",
    "ambique = defaultdict(list)\n",
    "for key, value in v.items():\n",
    "    potential_matches = KeyWord.objects.filter(varianten__contains=key)\n",
    "    if potential_matches.count() == 0:\n",
    "        no_match_in_variants.append({key: value})\n",
    "    elif potential_matches.count() == 1:\n",
    "        matches[key] = potential_matches\n",
    "    else:\n",
    "        ambique[key] = potential_matches"
   ]
  },
  {
   "cell_type": "code",
   "execution_count": 52,
   "metadata": {},
   "outputs": [],
   "source": [
    "results = [\n",
    "    [\"no_match_in_variants\", no_match_in_variants],\n",
    "    [\"matches\", matches],\n",
    "    [\"ambique\", ambique]\n",
    "]"
   ]
  },
  {
   "cell_type": "code",
   "execution_count": 53,
   "metadata": {},
   "outputs": [
    {
     "name": "stdout",
     "output_type": "stream",
     "text": [
      "no_match_in_variants: 48\n",
      "matches: 83\n",
      "ambique: 14\n"
     ]
    }
   ],
   "source": [
    "for x in results:\n",
    "    print(f\"{x[0]}: {len(x[1])}\")"
   ]
  },
  {
   "cell_type": "code",
   "execution_count": 54,
   "metadata": {},
   "outputs": [
    {
     "data": {
      "text/plain": [
       "(defaultdict(list,\n",
       "             {'Franci': <QuerySet [<KeyWord: Francia>, <KeyWord: Francigenus>, <KeyWord: Francus>]>,\n",
       "              'Graeci': <QuerySet [<KeyWord: Graecia>, <KeyWord: Graecus>]>,\n",
       "              'Romani': <QuerySet [<KeyWord: civis Romanus>, <KeyWord: Romania>, <KeyWord: Romanus>]>,\n",
       "              'gentes': <QuerySet [<KeyWord: gens>, <KeyWord: gens Dei>]>,\n",
       "              'Alamanni': <QuerySet [<KeyWord: Alamannia>, <KeyWord: Alamannus>]>,\n",
       "              'Scotti': <QuerySet [<KeyWord: Scottia>, <KeyWord: Scotticus>, <KeyWord: Scottus>]>,\n",
       "              'populi': <QuerySet [<KeyWord: gens populi>, <KeyWord: populi gentium>, <KeyWord: populi nationum>, <KeyWord: populus>, <KeyWord: populus christianus>, <KeyWord: populus Dei>]>,\n",
       "              'Aquitani': <QuerySet [<KeyWord: Aquitania>, <KeyWord: Aquitanus>]>,\n",
       "              'Hispani': <QuerySet [<KeyWord: Hispania>, <KeyWord: Hispaniensis>, <KeyWord: Hispanus>]>,\n",
       "              'Frisia': <QuerySet [<KeyWord: Fresia>, <KeyWord: Fresius>]>,\n",
       "              'barbari': <QuerySet [<KeyWord: barbaricus>, <KeyWord: barbaries>, <KeyWord: barbarus>]>,\n",
       "              'Burgundi': <QuerySet [<KeyWord: Burgundia>, <KeyWord: Burgundii>]>,\n",
       "              'Scoti': <QuerySet [<KeyWord: Scottia>, <KeyWord: Scotticus>]>,\n",
       "              'Saxoni': <QuerySet [<KeyWord: Saxo>, <KeyWord: Saxonia>, <KeyWord: Saxonicus>]>}),\n",
       " ['karolus',\n",
       "  'iudaicus',\n",
       "  'iudaeus',\n",
       "  'Iudaea',\n",
       "  'Britanni',\n",
       "  'termini',\n",
       "  'romanus',\n",
       "  'Britannicus',\n",
       "  'regnus',\n",
       "  'graecus',\n",
       "  'limites',\n",
       "  'Christianitas',\n",
       "  'Langobardus',\n",
       "  'italus',\n",
       "  'popoulus',\n",
       "  'hebraeus',\n",
       "  'Germanicus',\n",
       "  'Latini',\n",
       "  'hunni',\n",
       "  'Tromani',\n",
       "  'Arrianus',\n",
       "  'Vascones',\n",
       "  'Pharao',\n",
       "  'genzus',\n",
       "  'confines',\n",
       "  'primceps',\n",
       "  'populs',\n",
       "  'Theutonicus',\n",
       "  'papaltium',\n",
       "  'eccleisa',\n",
       "  'israheliticus',\n",
       "  'proheta',\n",
       "  'manichaeus',\n",
       "  'israhelita',\n",
       "  'Arabicus',\n",
       "  'princes',\n",
       "  'francigena',\n",
       "  'Africanus',\n",
       "  'Hlodwius',\n",
       "  'clericus',\n",
       "  'Hlotharius',\n",
       "  'ppontifex',\n",
       "  'latinitas',\n",
       "  'romanicus',\n",
       "  'Saraceni',\n",
       "  'Langobardii',\n",
       "  'pelagianus',\n",
       "  'Brettones'])"
      ]
     },
     "execution_count": 54,
     "metadata": {},
     "output_type": "execute_result"
    }
   ],
   "source": [
    "ambique, [list(x.keys())[0] for x in no_match_in_variants]"
   ]
  },
  {
   "cell_type": "code",
   "execution_count": 55,
   "metadata": {},
   "outputs": [
    {
     "name": "stdout",
     "output_type": "stream",
     "text": [
      "keyword: Franci\n",
      ", varianten: [(<KeyWord: Francia>, 'Franciae;Franciam'), (<KeyWord: Francigenus>, 'Francigena;Francigeno;Francigeni;Francigenos;Francigenis'), (<KeyWord: Francus>, 'Franci;Francos;Francis')] \n",
      "\n",
      "\n",
      "keyword: Graeci\n",
      ", varianten: [(<KeyWord: Graecia>, 'Graeciae;Graeciam'), (<KeyWord: Graecus>, 'Grecus;Graeci;Greci;Graec')] \n",
      "\n",
      "\n",
      "keyword: Romani\n",
      ", varianten: [(<KeyWord: civis Romanus>, 'civem Romanum;civi Romano;civis Romani;cives Romani;civibus Romanis'), (<KeyWord: Romania>, 'Romaniae;Romaniam'), (<KeyWord: Romanus>, 'Romani;Romanicus;Romana;Roman')] \n",
      "\n",
      "\n",
      "keyword: gentes\n",
      ", varianten: [(<KeyWord: gens>, 'gentes;genti;gente'), (<KeyWord: gens Dei>, 'gentis Dei;genti Dei;gentem Dei;gente Dei;gentes Dei')] \n",
      "\n",
      "\n",
      "keyword: Alamanni\n",
      ", varianten: [(<KeyWord: Alamannia>, 'Alamanniae;Alamanniam;Alemannia'), (<KeyWord: Alamannus>, 'Alamanni;Alamannorum;Alamannis;Alamannos;Alamanno')] \n",
      "\n",
      "\n",
      "keyword: Scotti\n",
      ", varianten: [(<KeyWord: Scottia>, 'Scottiae;Scotia;Scottiam'), (<KeyWord: Scotticus>, 'Scoticus;Scottici;Scotticos;Scotticis;Scotticorum'), (<KeyWord: Scottus>, 'Scotti;Scottorum;Scottis;Scottos')] \n",
      "\n",
      "\n",
      "keyword: populi\n",
      ", varianten: [(<KeyWord: gens populi>, 'gentem populi;gent populi'), (<KeyWord: populi gentium>, 'populorum gentium;populis  gentium;populos  gentium'), (<KeyWord: populi nationum>, 'populorum nationum;populis  nationum;populos  nationum'), (<KeyWord: populus>, 'populi;populo;populum'), (<KeyWord: populus christianus>, 'populi christiani;populus christianorum'), (<KeyWord: populus Dei>, 'populi Dei;populo Dei;populum Dei')] \n",
      "\n",
      "\n",
      "keyword: Aquitani\n",
      ", varianten: [(<KeyWord: Aquitania>, 'Aquitaniae;Aquitaniam'), (<KeyWord: Aquitanus>, 'Aquitanius;Aquitano;Aquitanum;Aquitanos;Aquitanis')] \n",
      "\n",
      "\n",
      "keyword: Hispani\n",
      ", varianten: [(<KeyWord: Hispania>, 'Hispaniae;Hispaniarum;Hispaniam;Hispanias;Spania'), (<KeyWord: Hispaniensis>, 'Hispaniens'), (<KeyWord: Hispanus>, 'Hispani;Hispano;Hispanum;Hispano;Span')] \n",
      "\n",
      "\n",
      "keyword: Frisia\n",
      ", varianten: [(<KeyWord: Fresia>, 'Frisia;Fresi;Frisi'), (<KeyWord: Fresius>, 'Fresii;Frisii;Fresones;Frisiani;Fresiones')] \n",
      "\n",
      "\n",
      "keyword: barbari\n",
      ", varianten: [(<KeyWord: barbaricus>, 'barbarici;barbarica;barbaricum;barbarico;barbaricos'), (<KeyWord: barbaries>, 'barbarie;barbariem'), (<KeyWord: barbarus>, 'barbari;barbaro;barbarum;barbarorum;barbara')] \n",
      "\n",
      "\n",
      "keyword: Burgundi\n",
      ", varianten: [(<KeyWord: Burgundia>, 'Burgundiae;Burgundiam'), (<KeyWord: Burgundii>, 'Burgundius;Burgundi;Burgundiones;Burgundioni;Burgundofarones')] \n",
      "\n",
      "\n",
      "keyword: Scoti\n",
      ", varianten: [(<KeyWord: Scottia>, 'Scottiae;Scotia;Scottiam'), (<KeyWord: Scotticus>, 'Scoticus;Scottici;Scotticos;Scotticis;Scotticorum')] \n",
      "\n",
      "\n",
      "keyword: Saxoni\n",
      ", varianten: [(<KeyWord: Saxo>, 'Saxones;Saxoni;Saxus;Saxi'), (<KeyWord: Saxonia>, 'Saxoniae;Saxoniam'), (<KeyWord: Saxonicus>, 'Saxonic')] \n",
      "\n",
      "\n"
     ]
    }
   ],
   "source": [
    "for item in ambique.items():\n",
    "    print(f\"keyword: {item[0]}\\n, varianten: {[(x, x.varianten) for x in item[1]]} \\n\\n\")"
   ]
  }
 ],
 "metadata": {
  "kernelspec": {
   "display_name": "Django Shell-Plus",
   "language": "python",
   "name": "django_extensions"
  },
  "language_info": {
   "codemirror_mode": {
    "name": "ipython",
    "version": 3
   },
   "file_extension": ".py",
   "mimetype": "text/x-python",
   "name": "python",
   "nbconvert_exporter": "python",
   "pygments_lexer": "ipython3",
   "version": "3.8.5"
  }
 },
 "nbformat": 4,
 "nbformat_minor": 4
}
