{
 "cells": [
  {
   "cell_type": "code",
   "execution_count": 13,
   "metadata": {},
   "outputs": [],
   "source": [
    "import json\n",
    "from collections import defaultdict\n",
    "from sqlalchemy import create_engine\n",
    "from django.core.management.base import BaseCommand\n",
    "from django.conf import settings\n",
    "from appcreator.import_utils import run_import\n",
    "\n",
    "# imports for custom things\n",
    "import json\n",
    "from tqdm import tqdm\n",
    "import pandas as pd\n",
    "from django.core.serializers.json import DjangoJSONEncoder\n",
    "from archiv.models import KeyWord, Stelle\n",
    "\n",
    "\n",
    "dbc = settings.LEGACY_DB_CONNECTION\n",
    "db_connection_str = f\"mysql+pymysql://{dbc['USER']}:{dbc['PASSWORD']}@{dbc['HOST']}/{dbc['NAME']}\"\n",
    "db_connection = create_engine(db_connection_str)"
   ]
  },
  {
   "cell_type": "code",
   "execution_count": 4,
   "metadata": {},
   "outputs": [],
   "source": [
    "for x in KeyWord.objects.all():\n",
    "    x.stichwort = x.stichwort.strip()\n",
    "    x.save()"
   ]
  },
  {
   "cell_type": "code",
   "execution_count": 5,
   "metadata": {},
   "outputs": [],
   "source": [
    "query = \"SELECT * FROM stelle\"\n",
    "df = pd.read_sql(query, con=db_connection)"
   ]
  },
  {
   "cell_type": "code",
   "execution_count": 7,
   "metadata": {},
   "outputs": [
    {
     "name": "stderr",
     "output_type": "stream",
     "text": [
      "100%|██████████| 4661/4661 [00:52<00:00, 88.60it/s] \n"
     ]
    }
   ],
   "source": [
    "stichwort_list = [x for x in list(df.keys()) if x.startswith('sstich')]\n",
    "ambique = {}\n",
    "no_match = {}\n",
    "for i, row in tqdm(df.iterrows(), total=len(df)):\n",
    "    if row['sid']:\n",
    "        try:\n",
    "            item = Stelle.objects.get(legacy_pk=row['sid'])\n",
    "        except:\n",
    "            continue\n",
    "        for st in stichwort_list:\n",
    "            if row[st] != \"\":\n",
    "                try:\n",
    "                    lookup = row[st].strip()\n",
    "                except AttributeError:\n",
    "                    continue\n",
    "                kws = KeyWord.objects.filter(stichwort=lookup)\n",
    "                if len(kws) == 1:\n",
    "                    item.key_word.add(*kws)\n",
    "                elif len(kws) == 0:\n",
    "                    no_match[f\"{item}\"] = lookup\n",
    "                else:\n",
    "                    ambique[f\"{item}\"] = lookup"
   ]
  },
  {
   "cell_type": "code",
   "execution_count": 10,
   "metadata": {},
   "outputs": [],
   "source": [
    "v = defaultdict(list)"
   ]
  },
  {
   "cell_type": "code",
   "execution_count": 11,
   "metadata": {},
   "outputs": [],
   "source": [
    "for key, value in sorted(no_match.items()):\n",
    "    v[value].append(key)"
   ]
  },
  {
   "cell_type": "code",
   "execution_count": 12,
   "metadata": {},
   "outputs": [],
   "source": [
    "with open('no_match.json', 'w') as fp:\n",
    "    json.dump(v, fp, indent=True)"
   ]
  },
  {
   "cell_type": "code",
   "execution_count": 14,
   "metadata": {},
   "outputs": [],
   "source": [
    "with open('no_match.json') as fp:\n",
    "    no_match = json.load(fp)"
   ]
  },
  {
   "cell_type": "code",
   "execution_count": 15,
   "metadata": {},
   "outputs": [],
   "source": [
    "no_match_in_variants = []\n",
    "matches = defaultdict(list)\n",
    "ambique = defaultdict(list)\n",
    "for key, value in v.items():\n",
    "    potential_matches = KeyWord.objects.filter(varianten__icontains=key)\n",
    "    if potential_matches.count() == 0:\n",
    "        no_match_in_variants.append({key: value})\n",
    "    elif potential_matches.count() == 1:\n",
    "        matches[key] = potential_matches\n",
    "    else:\n",
    "        ambique[key] = potential_matches"
   ]
  },
  {
   "cell_type": "code",
   "execution_count": 16,
   "metadata": {},
   "outputs": [],
   "source": [
    "results = [\n",
    "    [\"no_match_in_variants\", no_match_in_variants],\n",
    "    [\"matches\", matches],\n",
    "    [\"ambique\", ambique]\n",
    "]"
   ]
  },
  {
   "cell_type": "code",
   "execution_count": 17,
   "metadata": {},
   "outputs": [
    {
     "name": "stdout",
     "output_type": "stream",
     "text": [
      "no_match_in_variants: 37\n",
      "matches: 92\n",
      "ambique: 16\n"
     ]
    }
   ],
   "source": [
    "for x in results:\n",
    "    print(f\"{x[0]}: {len(x[1])}\")"
   ]
  },
  {
   "cell_type": "code",
   "execution_count": 18,
   "metadata": {},
   "outputs": [
    {
     "data": {
      "text/plain": [
       "(defaultdict(list,\n",
       "             {'Franci': <QuerySet [<KeyWord: Francia>, <KeyWord: francicus>, <KeyWord: Francigenus>, <KeyWord: Francus>]>,\n",
       "              'Graeci': <QuerySet [<KeyWord: Graecia>, <KeyWord: Graecus>]>,\n",
       "              'Gothus': <QuerySet [<KeyWord: Gothi>, <KeyWord: Wisigothi>]>,\n",
       "              'Romani': <QuerySet [<KeyWord: civis Romanus>, <KeyWord: Romania>, <KeyWord: Romanus>]>,\n",
       "              'gentes': <QuerySet [<KeyWord: gens>, <KeyWord: gens Dei>]>,\n",
       "              'Alamanni': <QuerySet [<KeyWord: Alamannia>, <KeyWord: Alamannus>]>,\n",
       "              'Scotti': <QuerySet [<KeyWord: Scottia>, <KeyWord: Scotticus>, <KeyWord: Scottus>]>,\n",
       "              'populi': <QuerySet [<KeyWord: gens populi>, <KeyWord: populi gentium>, <KeyWord: populi nationum>, <KeyWord: populus>, <KeyWord: populus christianus>, <KeyWord: populus Dei>]>,\n",
       "              'Aquitani': <QuerySet [<KeyWord: Aquitania>, <KeyWord: Aquitanus>]>,\n",
       "              'Hispani': <QuerySet [<KeyWord: Hispania>, <KeyWord: Hispaniensis>, <KeyWord: Hispanus>]>,\n",
       "              'Latini': <QuerySet [<KeyWord: Latinitas>, <KeyWord: Latinus>]>,\n",
       "              'Frisia': <QuerySet [<KeyWord: Fresia>, <KeyWord: Fresius>]>,\n",
       "              'barbari': <QuerySet [<KeyWord: barbaricus>, <KeyWord: barbaries>, <KeyWord: barbarus>]>,\n",
       "              'Burgundi': <QuerySet [<KeyWord: Burgundia>, <KeyWord: Burgundii>]>,\n",
       "              'Scoti': <QuerySet [<KeyWord: Scottia>, <KeyWord: Scotticus>]>,\n",
       "              'Saxoni': <QuerySet [<KeyWord: Saxo>, <KeyWord: Saxonia>, <KeyWord: Saxonicus>]>}),\n",
       " ['iudaicus',\n",
       "  'iudaeus',\n",
       "  'Iudaea',\n",
       "  'termini',\n",
       "  'romanus',\n",
       "  'regnus',\n",
       "  'graecus',\n",
       "  'limites',\n",
       "  'Christianitas',\n",
       "  'Langobardus',\n",
       "  'italus',\n",
       "  'popoulus',\n",
       "  'hebraeus',\n",
       "  'Germanicus',\n",
       "  'Tromani',\n",
       "  'Arrianus',\n",
       "  'Vascones',\n",
       "  'genzus',\n",
       "  'confines',\n",
       "  'primceps',\n",
       "  'populs',\n",
       "  'Theutonicus',\n",
       "  'papaltium',\n",
       "  'eccleisa',\n",
       "  'israheliticus',\n",
       "  'proheta',\n",
       "  'manichaeus',\n",
       "  'princes',\n",
       "  'Africanus',\n",
       "  'Hlodwius',\n",
       "  'clericus',\n",
       "  'Hlotharius',\n",
       "  'ppontifex',\n",
       "  'latinitas',\n",
       "  'Langobardii',\n",
       "  'pelagianus',\n",
       "  'Brettones'])"
      ]
     },
     "execution_count": 18,
     "metadata": {},
     "output_type": "execute_result"
    }
   ],
   "source": [
    "ambique, [list(x.keys())[0] for x in no_match_in_variants]"
   ]
  },
  {
   "cell_type": "code",
   "execution_count": 19,
   "metadata": {},
   "outputs": [],
   "source": [
    "no_match_in_variants = []\n",
    "matches = defaultdict(list)\n",
    "ambique = defaultdict(list)\n",
    "for key, value in v.items():\n",
    "    potential_matches = KeyWord.objects.filter(varianten__contains=key)\n",
    "    if potential_matches.count() == 0:\n",
    "        no_match_in_variants.append({key: value})\n",
    "    elif potential_matches.count() == 1:\n",
    "        matches[key] = potential_matches\n",
    "    else:\n",
    "        ambique[key] = potential_matches"
   ]
  },
  {
   "cell_type": "code",
   "execution_count": 20,
   "metadata": {},
   "outputs": [],
   "source": [
    "results = [\n",
    "    [\"no_match_in_variants\", no_match_in_variants],\n",
    "    [\"matches\", matches],\n",
    "    [\"ambique\", ambique]\n",
    "]"
   ]
  },
  {
   "cell_type": "code",
   "execution_count": 21,
   "metadata": {},
   "outputs": [
    {
     "name": "stdout",
     "output_type": "stream",
     "text": [
      "no_match_in_variants: 48\n",
      "matches: 83\n",
      "ambique: 14\n"
     ]
    }
   ],
   "source": [
    "for x in results:\n",
    "    print(f\"{x[0]}: {len(x[1])}\")"
   ]
  },
  {
   "cell_type": "code",
   "execution_count": 22,
   "metadata": {},
   "outputs": [
    {
     "data": {
      "text/plain": [
       "(defaultdict(list,\n",
       "             {'Franci': <QuerySet [<KeyWord: Francia>, <KeyWord: Francigenus>, <KeyWord: Francus>]>,\n",
       "              'Graeci': <QuerySet [<KeyWord: Graecia>, <KeyWord: Graecus>]>,\n",
       "              'Romani': <QuerySet [<KeyWord: civis Romanus>, <KeyWord: Romania>, <KeyWord: Romanus>]>,\n",
       "              'gentes': <QuerySet [<KeyWord: gens>, <KeyWord: gens Dei>]>,\n",
       "              'Alamanni': <QuerySet [<KeyWord: Alamannia>, <KeyWord: Alamannus>]>,\n",
       "              'Scotti': <QuerySet [<KeyWord: Scottia>, <KeyWord: Scotticus>, <KeyWord: Scottus>]>,\n",
       "              'populi': <QuerySet [<KeyWord: gens populi>, <KeyWord: populi gentium>, <KeyWord: populi nationum>, <KeyWord: populus>, <KeyWord: populus christianus>, <KeyWord: populus Dei>]>,\n",
       "              'Aquitani': <QuerySet [<KeyWord: Aquitania>, <KeyWord: Aquitanus>]>,\n",
       "              'Hispani': <QuerySet [<KeyWord: Hispania>, <KeyWord: Hispaniensis>, <KeyWord: Hispanus>]>,\n",
       "              'Frisia': <QuerySet [<KeyWord: Fresia>, <KeyWord: Fresius>]>,\n",
       "              'barbari': <QuerySet [<KeyWord: barbaricus>, <KeyWord: barbaries>, <KeyWord: barbarus>]>,\n",
       "              'Burgundi': <QuerySet [<KeyWord: Burgundia>, <KeyWord: Burgundii>]>,\n",
       "              'Scoti': <QuerySet [<KeyWord: Scottia>, <KeyWord: Scotticus>]>,\n",
       "              'Saxoni': <QuerySet [<KeyWord: Saxo>, <KeyWord: Saxonia>, <KeyWord: Saxonicus>]>}),\n",
       " ['karolus',\n",
       "  'iudaicus',\n",
       "  'iudaeus',\n",
       "  'Iudaea',\n",
       "  'Britanni',\n",
       "  'termini',\n",
       "  'romanus',\n",
       "  'Britannicus',\n",
       "  'regnus',\n",
       "  'graecus',\n",
       "  'limites',\n",
       "  'Christianitas',\n",
       "  'Langobardus',\n",
       "  'italus',\n",
       "  'popoulus',\n",
       "  'hebraeus',\n",
       "  'Germanicus',\n",
       "  'Latini',\n",
       "  'hunni',\n",
       "  'Tromani',\n",
       "  'Arrianus',\n",
       "  'Vascones',\n",
       "  'Pharao',\n",
       "  'genzus',\n",
       "  'confines',\n",
       "  'primceps',\n",
       "  'populs',\n",
       "  'Theutonicus',\n",
       "  'papaltium',\n",
       "  'eccleisa',\n",
       "  'israheliticus',\n",
       "  'proheta',\n",
       "  'manichaeus',\n",
       "  'israhelita',\n",
       "  'Arabicus',\n",
       "  'princes',\n",
       "  'francigena',\n",
       "  'Africanus',\n",
       "  'Hlodwius',\n",
       "  'clericus',\n",
       "  'Hlotharius',\n",
       "  'ppontifex',\n",
       "  'latinitas',\n",
       "  'romanicus',\n",
       "  'Saraceni',\n",
       "  'Langobardii',\n",
       "  'pelagianus',\n",
       "  'Brettones'])"
      ]
     },
     "execution_count": 22,
     "metadata": {},
     "output_type": "execute_result"
    }
   ],
   "source": [
    "ambique, [list(x.keys())[0] for x in no_match_in_variants]"
   ]
  }
 ],
 "metadata": {
  "kernelspec": {
   "display_name": "Django Shell-Plus",
   "language": "python",
   "name": "django_extensions"
  },
  "language_info": {
   "codemirror_mode": {
    "name": "ipython",
    "version": 3
   },
   "file_extension": ".py",
   "mimetype": "text/x-python",
   "name": "python",
   "nbconvert_exporter": "python",
   "pygments_lexer": "ipython3",
   "version": "3.8.5"
  }
 },
 "nbformat": 4,
 "nbformat_minor": 4
}
